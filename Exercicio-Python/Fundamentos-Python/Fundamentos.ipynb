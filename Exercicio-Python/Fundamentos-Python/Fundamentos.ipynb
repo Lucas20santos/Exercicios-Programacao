{
 "cells": [
  {
   "cell_type": "markdown",
   "id": "ee370b32",
   "metadata": {},
   "source": [
    "# Variáveis e Tipos de Dados: \n",
    "\n",
    "### Crie um programa que declare variáveis para armazenar seu nome, idade e altura. Imprima cada variável."
   ]
  },
  {
   "cell_type": "code",
   "execution_count": 5,
   "id": "6933f4b7",
   "metadata": {},
   "outputs": [
    {
     "ename": "ValueError",
     "evalue": "invalid literal for int() with base 10: ''",
     "output_type": "error",
     "traceback": [
      "\u001b[31m---------------------------------------------------------------------------\u001b[39m",
      "\u001b[31mValueError\u001b[39m                                Traceback (most recent call last)",
      "\u001b[36mCell\u001b[39m\u001b[36m \u001b[39m\u001b[32mIn[5]\u001b[39m\u001b[32m, line 2\u001b[39m\n\u001b[32m      1\u001b[39m nome: \u001b[38;5;28mstr\u001b[39m = \u001b[38;5;28mstr\u001b[39m(\u001b[38;5;28minput\u001b[39m(\u001b[33m\"\u001b[39m\u001b[33mInforme seu nome: \u001b[39m\u001b[33m\"\u001b[39m)).strip().title()\n\u001b[32m----> \u001b[39m\u001b[32m2\u001b[39m idade: \u001b[38;5;28mint\u001b[39m = \u001b[38;5;28;43mint\u001b[39;49m\u001b[43m(\u001b[49m\u001b[38;5;28;43minput\u001b[39;49m\u001b[43m(\u001b[49m\u001b[33;43m\"\u001b[39;49m\u001b[33;43mInforme sua idade: \u001b[39;49m\u001b[33;43m\"\u001b[39;49m\u001b[43m)\u001b[49m\u001b[43m)\u001b[49m\n\u001b[32m      3\u001b[39m altura: \u001b[38;5;28mfloat\u001b[39m = \u001b[38;5;28mfloat\u001b[39m(\u001b[38;5;28minput\u001b[39m(\u001b[33m\"\u001b[39m\u001b[33mInforme sua altura: \u001b[39m\u001b[33m\"\u001b[39m))\n\u001b[32m      5\u001b[39m \u001b[38;5;28mprint\u001b[39m(\u001b[33mf\u001b[39m\u001b[33m\"\u001b[39m\u001b[33mO usuário \u001b[39m\u001b[38;5;132;01m{\u001b[39;00mnome\u001b[38;5;132;01m}\u001b[39;00m\u001b[33m tem \u001b[39m\u001b[38;5;132;01m{\u001b[39;00midade\u001b[38;5;132;01m}\u001b[39;00m\u001b[33m anos e \u001b[39m\u001b[38;5;132;01m{\u001b[39;00maltura\u001b[38;5;132;01m}\u001b[39;00m\u001b[33m m de altura.\u001b[39m\u001b[33m\"\u001b[39m)\n",
      "\u001b[31mValueError\u001b[39m: invalid literal for int() with base 10: ''"
     ]
    }
   ],
   "source": [
    "nome: str = str(input(\"Informe seu nome: \")).strip().title()\n",
    "idade: int = int(input(\"Informe sua idade: \"))\n",
    "altura: float = float(input(\"Informe sua altura: \"))\n",
    "\n",
    "print(f\"O usuário {nome} tem {idade} anos e {altura} m de altura.\")"
   ]
  },
  {
   "cell_type": "markdown",
   "id": "259ab9f7",
   "metadata": {},
   "source": [
    "## Operadores Aritméticos: \n",
    "\n",
    "### Peça ao usuário dois números e exiba a soma, subtração, multiplicação, divisão e resto da divisão."
   ]
  },
  {
   "cell_type": "code",
   "execution_count": null,
   "id": "128b52c4",
   "metadata": {},
   "outputs": [
    {
     "name": "stdout",
     "output_type": "stream",
     "text": [
      "Operações:\n",
      "Soma ->             4.0 +  0.0 = 4.0\n",
      "Subtração ->        4.0 -  0.0 = 4.0\n",
      "Multiplicação:      4.0 x  0.0 = 0.0\n",
      "Divisão:            4.0 +  0.0 = Erro, divisao por zero.\n",
      "Divisão Interia:    4.0 // 0.0 = Erro, divisão por zero.\n",
      "Resto da Divisao:   4.0 %  0.0 = Erro, divisão por zero.\n",
      "\n"
     ]
    }
   ],
   "source": [
    "num1: float = float(input(\"Informe o primeiro número: \"))\n",
    "num2: float = float(input(\"Informe o segundo número: \"))\n",
    "\n",
    "soma: float = num1 + num2\n",
    "subtracao: float = num1 - num2\n",
    "multiplicacao: float = num1 * num2\n",
    "divisao: str = str(num1 / num2) if num2 != 0 else \"Erro, divisao por zero.\"\n",
    "divisaoInteira: str = str(num1 // num2) if num2 != 0 else \"Erro, divisão por zero.\"\n",
    "restoDivisao: float = num1 % num2 if num2 != 0 else \"Erro, divisão por zero.\"\n",
    "\n",
    "print(f\"\"\"Operações:\n",
    "Soma ->             {num1} +  {num2} = {soma}\n",
    "Subtração ->        {num1} -  {num2} = {subtracao}\n",
    "Multiplicação:      {num1} x  {num2} = {multiplicacao}\n",
    "Divisão:            {num1} +  {num2} = {divisao}\n",
    "Divisão Interia:    {num1} // {num2} = {divisaoInteira}\n",
    "Resto da Divisao:   {num1} %  {num2} = {restoDivisao}\n",
    "\"\"\")"
   ]
  },
  {
   "cell_type": "markdown",
   "id": "c276828c",
   "metadata": {},
   "source": [
    "### 1. Entrada e Saída: Solicite ao usuário que digite uma frase e imprima essa frase."
   ]
  },
  {
   "cell_type": "code",
   "execution_count": null,
   "id": "a970398b",
   "metadata": {},
   "outputs": [
    {
     "name": "stdout",
     "output_type": "stream",
     "text": [
      "Frase: Hello World\n"
     ]
    }
   ],
   "source": [
    "frase: str = str(input(\"Digite uma frase: \")).strip()\n",
    "print(f\"Frase: {frase}\")"
   ]
  },
  {
   "cell_type": "markdown",
   "id": "c08840c6",
   "metadata": {},
   "source": [
    "## Condicionais (if/else)\n",
    "\n",
    "### Verifique se um número digitado pelo usuário é par ou ímpar.\n"
   ]
  },
  {
   "cell_type": "code",
   "execution_count": null,
   "id": "a5d09037",
   "metadata": {},
   "outputs": [
    {
     "name": "stdout",
     "output_type": "stream",
     "text": [
      "Número 13 é impar.\n"
     ]
    }
   ],
   "source": [
    "numero: int = int(input(\"Informe um número: \").strip())\n",
    "print(f\"Número {numero} é Par\" if numero % 2 == 0 else f\"Número {numero} é impar.\")\n"
   ]
  },
  {
   "cell_type": "markdown",
   "id": "979bc4a0",
   "metadata": {},
   "source": [
    "## Condicionais Aninhadas\n",
    "\n",
    "### Peça três notas a um aluno e calcule a média. Se a média for maior ou igual a 7, imprima \"Aprovado\". Se for entre 5 e 6.9, imprima \"Recuperação\". Caso contrário, imprima \"Reprovado\"."
   ]
  },
  {
   "cell_type": "code",
   "execution_count": null,
   "id": "fba87bc3",
   "metadata": {},
   "outputs": [
    {
     "name": "stdout",
     "output_type": "stream",
     "text": [
      "Media do Aluno: 4.0\n",
      "Candidado em recuperação\n"
     ]
    }
   ],
   "source": [
    "nota1: float = float(input(\"Informe a primeira nota1: \"))\n",
    "nota2: float = float(input(\"Informe a primeira nota2: \"))\n",
    "nota3: float = float(input(\"Informe a primeira nota3: \"))\n",
    "\n",
    "media: float = round((nota1 + nota2 + nota3) / 3, 2)\n",
    "print(f\"Media do Aluno: {media}\")\n",
    "print(\"Candidato aprovado\" if media >= 7 else \"Candidato Reprovado\" if media < 3 else \"Candidado em recuperação\")"
   ]
  },
  {
   "cell_type": "markdown",
   "id": "4a753fe2",
   "metadata": {},
   "source": [
    "## Loop for: \n",
    "\n",
    "### Imprima os números de 1 a 10."
   ]
  },
  {
   "cell_type": "code",
   "execution_count": null,
   "id": "6dfef865",
   "metadata": {},
   "outputs": [
    {
     "name": "stdout",
     "output_type": "stream",
     "text": [
      "1 2 3 4 5 6 7 8 9 10 "
     ]
    }
   ],
   "source": [
    "for x in range(1, 11): print(x, end=\" \")"
   ]
  },
  {
   "cell_type": "markdown",
   "id": "3292ec89",
   "metadata": {},
   "source": [
    "## Loop while: \n",
    "\n",
    "### Imprima os números de 10 a 1 em ordem decrescente."
   ]
  },
  {
   "cell_type": "code",
   "execution_count": null,
   "id": "ef6244a3",
   "metadata": {},
   "outputs": [
    {
     "name": "stdout",
     "output_type": "stream",
     "text": [
      "10 9 8 7 6 5 4 3 2 1 "
     ]
    }
   ],
   "source": [
    "cont = 10\n",
    "while cont >= 1:\n",
    "    print(cont, end=\" \")\n",
    "    cont -= 1"
   ]
  },
  {
   "cell_type": "markdown",
   "id": "293ce12e",
   "metadata": {},
   "source": [
    "## Listas: \n",
    "\n",
    "### Crie uma lista com 5 nomes. Acesse e imprima o terceiro nome da lista."
   ]
  },
  {
   "cell_type": "code",
   "execution_count": null,
   "id": "c5b91e40",
   "metadata": {},
   "outputs": [
    {
     "name": "stdout",
     "output_type": "stream",
     "text": [
      "Luiz"
     ]
    }
   ],
   "source": [
    "lista: list = [\"Maria\", \"Marta\", \"João\", \"Luiz\", \"Lucas\"]\n",
    "for x in lista[3]: print(x, end=\"\")"
   ]
  },
  {
   "cell_type": "markdown",
   "id": "8d77328a",
   "metadata": {},
   "source": [
    "## Tuplas: \n",
    "\n",
    "### Crie uma tupla com as coordenadas (latitude, longitude) de uma cidade. Imprima cada coordenada."
   ]
  },
  {
   "cell_type": "code",
   "execution_count": null,
   "id": "f8c18887",
   "metadata": {},
   "outputs": [
    {
     "name": "stdout",
     "output_type": "stream",
     "text": [
      "Posicao x = 09°\n",
      "Posição y = 00°\n"
     ]
    }
   ],
   "source": [
    "coordenadas: tuple = (9, 0)\n",
    "for pos, val in enumerate(coordenadas): print(f\"Posicao x = {val if val >= 10 else f\"0{val}\"}°\" if pos % 2 == 0 else f\"Posição y = {val if val >= 10 else f\"0{val}\"}°\")\n"
   ]
  },
  {
   "cell_type": "markdown",
   "id": "04221fc3",
   "metadata": {},
   "source": [
    "## Dicionários: \n",
    "\n",
    "### Crie um dicionário para armazenar informações de um livro (título, autor, ano de publicação). Acesse e imprima o autor.\n"
   ]
  },
  {
   "cell_type": "code",
   "execution_count": 6,
   "id": "697bf406",
   "metadata": {},
   "outputs": [],
   "source": [
    "biblioteca: dict = {\n",
    "    \"título\": \"O auto da compadecida\",\n",
    "    \"Autor\": \"Ariano Suassuna\",\n",
    "    \"Ano\": 1955\n",
    "}"
   ]
  },
  {
   "cell_type": "code",
   "execution_count": null,
   "id": "632c1a8a",
   "metadata": {},
   "outputs": [
    {
     "name": "stdout",
     "output_type": "stream",
     "text": [
      "{'título': 'O auto da compadecida', 'Autor': 'Ariano Suassuna', 'Ano': 1955}\n",
      "Chaves: título\n",
      "Chaves: Autor\n",
      "Chaves: Ano\n",
      "Valor: O auto da compadecida\n",
      "Valor: Ariano Suassuna\n",
      "Valor: 1955\n"
     ]
    }
   ],
   "source": [
    "print(biblioteca)\n",
    "for key in biblioteca.keys(): print(f\"Chaves: {key}\")\n",
    "for val in biblioteca.values(): print(f\"Valor: {val}\")"
   ]
  },
  {
   "cell_type": "code",
   "execution_count": null,
   "id": "5526d459",
   "metadata": {},
   "outputs": [
    {
     "name": "stdout",
     "output_type": "stream",
     "text": [
      "título: O auto da compadecida\n",
      "Autor: Ariano Suassuna\n",
      "Ano: 1955\n"
     ]
    }
   ],
   "source": [
    "for key, val in biblioteca.items(): print(f\"{key}: {val}\")"
   ]
  },
  {
   "cell_type": "markdown",
   "id": "0455af08",
   "metadata": {},
   "source": [
    "# Funções e Estruturas de Dados \n",
    "\n",
    "## Função Simples: \n",
    "\n",
    "### Crie uma função que receba dois números e retorne a soma deles.\n"
   ]
  },
  {
   "cell_type": "code",
   "execution_count": null,
   "id": "d127ed29",
   "metadata": {},
   "outputs": [
    {
     "data": {
      "text/plain": [
       "6"
      ]
     },
     "execution_count": 23,
     "metadata": {},
     "output_type": "execute_result"
    }
   ],
   "source": [
    "def soma(num1: float, num2: float) -> float:\n",
    "    \"\"\"\n",
    "        Função que soma dois valores\n",
    "        \n",
    "        Arg:\n",
    "            num1: o primeiro numero\n",
    "            num2: o segundo numero\n",
    "        \n",
    "        Returns:\n",
    "            A soma de 'num1' e 'num2'\n",
    "    \"\"\"\n",
    "    return num1 + num2\n",
    "\n",
    "soma(2, 4)"
   ]
  },
  {
   "cell_type": "markdown",
   "id": "7bb1df02",
   "metadata": {},
   "source": [
    "## 1. Função com Múltiplos Retornos\n",
    "\n",
    "### Crie uma função que receba uma lista de números e retorne o menor e o maior número.\n"
   ]
  },
  {
   "cell_type": "code",
   "execution_count": null,
   "id": "a8f9e3a4",
   "metadata": {},
   "outputs": [
    {
     "name": "stdout",
     "output_type": "stream",
     "text": [
      "(6, 1)\n",
      "(100, 0)\n"
     ]
    }
   ],
   "source": [
    "def MaiorEMenorValor(*args: int) -> tuple:\n",
    "    \"\"\"\n",
    "        Função que verificar o maior e o menor numero dentro de tupla de números\n",
    "\n",
    "        Args:\n",
    "            num: é uma tupla posicional variável,\n",
    "                 Esses argumentos podem ser acessadas como elementos de uma tupla\n",
    "        Returns:\n",
    "            retorna uma tupla com o maior e o menor número:\n",
    "    \"\"\"\n",
    "\n",
    "    maior: int = 0\n",
    "    menor: int = 0\n",
    "    \n",
    "    for pos, val in enumerate(args):\n",
    "        if pos == 0:\n",
    "            maior = menor = val\n",
    "        if val > maior:\n",
    "            maior = val\n",
    "        if val < menor:\n",
    "            menor = val\n",
    "    return maior, menor\n",
    "\n",
    "\n",
    "print(MaiorEMenorValor(1, 2, 3, 4, 5, 6))\n",
    "print(MaiorEMenorValor(44, 22, 88, 33, 0, 100))\n"
   ]
  },
  {
   "cell_type": "markdown",
   "id": "a2b2939a",
   "metadata": {},
   "source": [
    "## Escopo de Variáveis: \n",
    "\n",
    "### Demonstre o uso de variáveis locais e globais em um programa simples."
   ]
  },
  {
   "cell_type": "code",
   "execution_count": null,
   "id": "13224648",
   "metadata": {},
   "outputs": [
    {
     "name": "stdout",
     "output_type": "stream",
     "text": [
      "Valor fora do escopo da função: 10\n",
      "Valor dentro do escopo da funçaõ: 0\n"
     ]
    }
   ],
   "source": [
    "valor:int = 10\n",
    "def usoEscopo():\n",
    "    valor:int = 0\n",
    "    print(f\"Valor dentro do escopo da funçaõ: {valor}\")\n",
    "print(f\"Valor fora do escopo da função: {valor}\")\n",
    "usoEscopo()"
   ]
  },
  {
   "cell_type": "markdown",
   "id": "9d99fe15",
   "metadata": {},
   "source": [
    "## Manipulação de Strings: \n",
    "\n",
    "### Peça ao usuário uma frase e imprima-a em letras maiúsculas e minúsculas."
   ]
  },
  {
   "cell_type": "code",
   "execution_count": null,
   "id": "27c5da87",
   "metadata": {},
   "outputs": [
    {
     "name": "stdout",
     "output_type": "stream",
     "text": [
      "Frase digitada em Minuscúlo: \n",
      "o amor é uma dor.\n",
      "Frase digitada em maiúsculos: \n",
      "O AMOR É UMA DOR.\n"
     ]
    }
   ],
   "source": [
    "frase:str = str(input(\"Digite uma frase: \")).strip()\n",
    "\n",
    "print(f\"Frase digitada em Minusculo: \\n{frase.lower()}\")\n",
    "print(f\"Frase digitada em maiúsculos: \\n{frase.upper()}\")"
   ]
  },
  {
   "cell_type": "markdown",
   "id": "68127005",
   "metadata": {},
   "source": [
    "## Remoção de Elementos da Lista: \n",
    "\n",
    "### Crie uma lista de números e remova o terceiro elemento.\n"
   ]
  },
  {
   "cell_type": "code",
   "execution_count": null,
   "id": "142a61cb",
   "metadata": {},
   "outputs": [
    {
     "name": "stdout",
     "output_type": "stream",
     "text": [
      "Lista antes da remoção: [1, 2, 3, 4, 5, 6, 7]\n",
      "removendo o terceiro item da lista: \n",
      "[1, 2, 4, 5, 6, 7]\n"
     ]
    }
   ],
   "source": [
    "listaNumero: list = [1, 2, 3, 4, 5, 6, 7]\n",
    "print(f\"Lista antes da remoção: {listaNumero}\")\n",
    "\n",
    "listaNumero.pop(2)\n",
    "print(f\"removendo o terceiro item da lista: \\n{listaNumero}\")"
   ]
  },
  {
   "cell_type": "markdown",
   "id": "7242774c",
   "metadata": {},
   "source": [
    "## Adicionar Elementos à Lista: \n",
    "\n",
    "### Adicione um novo elemento ao final de uma lista existente.\n"
   ]
  },
  {
   "cell_type": "code",
   "execution_count": null,
   "id": "195047bc",
   "metadata": {},
   "outputs": [
    {
     "name": "stdout",
     "output_type": "stream",
     "text": [
      "Inserindo um novo elemento no final da lista: [1, 2, 4, 5, 6, 7, 9]\n"
     ]
    }
   ],
   "source": [
    "listaNumero.append(9)\n",
    "\n",
    "print(f\"Inserindo um novo elemento no final da lista: {listaNumero}\")\n"
   ]
  },
  {
   "cell_type": "markdown",
   "id": "d1ecb338",
   "metadata": {},
   "source": [
    "## 1. Iterando sobre Dicionários: \n",
    "\n",
    "### Itere sobre as chaves e valores de um dicionário e imprima-os."
   ]
  },
  {
   "cell_type": "code",
   "execution_count": 8,
   "id": "3662d1f3",
   "metadata": {},
   "outputs": [
    {
     "name": "stdout",
     "output_type": "stream",
     "text": [
      "título O auto da compadecida\n",
      "Autor Ariano Suassuna\n",
      "Ano 1955\n"
     ]
    }
   ],
   "source": [
    "for x, y in biblioteca.items():\n",
    "    print(x, y)"
   ]
  },
  {
   "cell_type": "markdown",
   "id": "aa91dd95",
   "metadata": {},
   "source": [
    "## 1. Sets: \n",
    "\n",
    "### Crie dois sets de números e encontre a união e a interseção."
   ]
  },
  {
   "cell_type": "code",
   "execution_count": null,
   "id": "8a81646a",
   "metadata": {},
   "outputs": [
    {
     "name": "stdout",
     "output_type": "stream",
     "text": [
      "A U B: {1, 2, 3, 4, 5, 6, 7}\n",
      "A ∩ B é: {3, 4, 5}\n",
      "A - B: {1, 2}\n",
      "B - A: {6, 7}\n",
      "None, {1, 2, 3, 4, 5, 10}\n"
     ]
    }
   ],
   "source": [
    "A: set = {1, 2, 3, 4, 5}\n",
    "B: set = {3, 4, 5, 6, 7}\n",
    "\n",
    "print(f\"A U B: {A.union(B)}\")\n",
    "print(f\"A \\u2229 B é: {A.intersection(B)}\")\n",
    "print(f\"A - B: {A.difference(B)}\")\n",
    "print(f\"B - A: {B.difference(A)}\")\n",
    "print(f\"{A.add(10)}, {A}\")"
   ]
  },
  {
   "cell_type": "markdown",
   "id": "8ed7f6a8",
   "metadata": {},
   "source": [
    "## Compreensão de Listas: \n",
    "\n",
    "### Crie uma lista dos quadrados dos números de 1 a 10 usando compreensão de listas."
   ]
  },
  {
   "cell_type": "code",
   "execution_count": 18,
   "id": "eea0c182",
   "metadata": {},
   "outputs": [
    {
     "name": "stdout",
     "output_type": "stream",
     "text": [
      "[1, 4, 9, 16, 25, 36, 49, 64, 81, 100]\n",
      "[1, 4, 9, 16, 25, 36, 49, 64, 81, 100]\n"
     ]
    }
   ],
   "source": [
    "print(list(x ** 2 for x in range(1,11)))\n",
    "print([x ** 2 for x in range(1, 11)])"
   ]
  },
  {
   "cell_type": "markdown",
   "id": "c5097bad",
   "metadata": {},
   "source": [
    "# Programação Orientada a Objetos (POO)\n",
    "\n",
    "## Classe Básica: \n",
    "\n",
    "1. Crie uma classe Pessoa com atributos nome e idade.\n",
    "2. Adicione um método apresentar à classe Pessoa que imprima uma saudação com o nome e idade.\n",
    "3. Crie uma classe Aluno que herde de Pessoa e tenha um atributo adicional matricula.\n",
    "4. Sobrescrita de Método: Na classe Aluno, sobrescreva o método apresentar para incluir a matrícula."
   ]
  },
  {
   "cell_type": "code",
   "execution_count": null,
   "id": "6dadf1ac",
   "metadata": {},
   "outputs": [
    {
     "name": "stdout",
     "output_type": "stream",
     "text": [
      "Olá, Lucas sua idade é 33.\n",
      "A aluna Fernanda tem 23 anos e sua matricula escolar é 1234. \n"
     ]
    }
   ],
   "source": [
    "class Pessoa():\n",
    "    def __init__(self, nome, idade):\n",
    "        self.nome = nome\n",
    "        self.idade = idade\n",
    "\n",
    "    def apresentar(self):\n",
    "        print(f\"Olá, {self.nome} sua idade é {self.idade}.\")\n",
    "\n",
    "\n",
    "class Aluno(Pessoa):\n",
    "    def __init__(self, nome, idade, matricula):\n",
    "        super().__init__(nome, idade)\n",
    "        self.matricula = matricula\n",
    "    \n",
    "    def apresentar(self, sexo:str):\n",
    "        if sexo == \"M\":\n",
    "            print(f\"O aluno {self.nome} tem {self.idade} anos e sua matricula escolar é {self.matricula}. \")\n",
    "        else:\n",
    "            print(f\"A aluna {self.nome} tem {self.idade} anos e sua matricula escolar é {self.matricula}. \")\n",
    "\n",
    "p1 = Pessoa('Lucas', 33)\n",
    "p1.apresentar()\n",
    "\n",
    "a1 = Aluno(\"Fernanda\", 23, 1234)\n",
    "a1.apresentar(\"F\")\n"
   ]
  },
  {
   "cell_type": "markdown",
   "id": "d961eaf0",
   "metadata": {},
   "source": []
  }
 ],
 "metadata": {
  "kernelspec": {
   "display_name": "Python 3",
   "language": "python",
   "name": "python3"
  },
  "language_info": {
   "codemirror_mode": {
    "name": "ipython",
    "version": 3
   },
   "file_extension": ".py",
   "mimetype": "text/x-python",
   "name": "python",
   "nbconvert_exporter": "python",
   "pygments_lexer": "ipython3",
   "version": "3.12.1"
  }
 },
 "nbformat": 4,
 "nbformat_minor": 5
}
