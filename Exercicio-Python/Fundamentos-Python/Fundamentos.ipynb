{
 "cells": [
  {
   "cell_type": "markdown",
   "id": "ee370b32",
   "metadata": {},
   "source": [
    "# Variáveis e Tipos de Dados: \n",
    "\n",
    "### Crie um programa que declare variáveis para armazenar seu nome, idade e altura. Imprima cada variável."
   ]
  },
  {
   "cell_type": "code",
   "execution_count": null,
   "id": "6933f4b7",
   "metadata": {},
   "outputs": [
    {
     "name": "stdout",
     "output_type": "stream",
     "text": [
      "O usuário Lucas De Souza Santos tem 33 anos e 1.65 m² de altura.\n"
     ]
    }
   ],
   "source": [
    "nome: str = str(input(\"Informe seu nome: \")).strip().title()\n",
    "idade: int = int(input(\"Informe sua idade: \"))\n",
    "altura: float = float(input(\"Informe sua altura: \"))\n",
    "\n",
    "print(f\"O usuário {nome} tem {idade} anos e {altura} m de altura.\")"
   ]
  },
  {
   "cell_type": "markdown",
   "id": "259ab9f7",
   "metadata": {},
   "source": [
    "## Operadores Aritméticos: \n",
    "\n",
    "### Peça ao usuário dois números e exiba a soma, subtração, multiplicação, divisão e resto da divisão."
   ]
  },
  {
   "cell_type": "code",
   "execution_count": 6,
   "id": "128b52c4",
   "metadata": {},
   "outputs": [
    {
     "name": "stdout",
     "output_type": "stream",
     "text": [
      "Operações:\n",
      "Soma ->             4.0 +  0.0 = 4.0\n",
      "Subtração ->        4.0 -  0.0 = 4.0\n",
      "Multiplicação:      4.0 x  0.0 = 0.0\n",
      "Divisão:            4.0 +  0.0 = Erro, divisao por zero.\n",
      "Divisão Interia:    4.0 // 0.0 = Erro, divisão por zero.\n",
      "Resto da Divisao:   4.0 %  0.0 = Erro, divisão por zero.\n",
      "\n"
     ]
    }
   ],
   "source": [
    "num1: float = float(input(\"Informe o primeiro número: \"))\n",
    "num2: float = float(input(\"Informe o segundo número: \"))\n",
    "\n",
    "soma: float = num1 + num2\n",
    "subtracao: float = num1 - num2\n",
    "multiplicacao: float = num1 * num2\n",
    "divisao: str = str(num1 / num2) if num2 != 0 else \"Erro, divisao por zero.\"\n",
    "divisaoInteira: str = str(num1 // num2) if num2 != 0 else \"Erro, divisão por zero.\"\n",
    "restoDivisao: float = num1 % num2 if num2 != 0 else \"Erro, divisão por zero.\"\n",
    "\n",
    "print(f\"\"\"Operações:\n",
    "Soma ->             {num1} +  {num2} = {soma}\n",
    "Subtração ->        {num1} -  {num2} = {subtracao}\n",
    "Multiplicação:      {num1} x  {num2} = {multiplicacao}\n",
    "Divisão:            {num1} +  {num2} = {divisao}\n",
    "Divisão Interia:    {num1} // {num2} = {divisaoInteira}\n",
    "Resto da Divisao:   {num1} %  {num2} = {restoDivisao}\n",
    "\"\"\")"
   ]
  },
  {
   "cell_type": "markdown",
   "id": "c276828c",
   "metadata": {},
   "source": [
    "### 1. Entrada e Saída: Solicite ao usuário que digite uma frase e imprima essa frase."
   ]
  },
  {
   "cell_type": "code",
   "execution_count": null,
   "id": "a970398b",
   "metadata": {
    "vscode": {
     "languageId": "javascript"
    }
   },
   "outputs": [
    {
     "name": "stdout",
     "output_type": "stream",
     "text": [
      "openjdk 21.0.7 2025-04-15 LTS\n",
      "OpenJDK Runtime Environment Microsoft-11369942 (build 21.0.7+6-LTS)\n",
      "OpenJDK 64-Bit Server VM Microsoft-11369942 (build 21.0.7+6-LTS, mixed mode, sharing)\n"
     ]
    }
   ],
   "source": []
  }
 ],
 "metadata": {
  "kernelspec": {
   "display_name": "Python 3",
   "language": "python",
   "name": "python3"
  },
  "language_info": {
   "codemirror_mode": {
    "name": "ipython",
    "version": 3
   },
   "file_extension": ".py",
   "mimetype": "text/x-python",
   "name": "python",
   "nbconvert_exporter": "python",
   "pygments_lexer": "ipython3",
   "version": "3.12.1"
  }
 },
 "nbformat": 4,
 "nbformat_minor": 5
}
