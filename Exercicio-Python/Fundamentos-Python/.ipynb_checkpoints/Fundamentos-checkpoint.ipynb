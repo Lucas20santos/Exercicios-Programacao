{
 "cells": [
  {
   "cell_type": "markdown",
   "id": "ee370b32",
   "metadata": {},
   "source": [
    "# Variáveis e Tipos de Dados: \n",
    "\n",
    "### Crie um programa que declare variáveis para armazenar seu nome, idade e altura. Imprima cada variável."
   ]
  },
  {
   "cell_type": "code",
   "execution_count": null,
   "id": "6933f4b7",
   "metadata": {},
   "outputs": [
    {
     "name": "stdout",
     "output_type": "stream",
     "text": [
      "O usuário Lucas De Souza Santos tem 33 anos e 1.65 m² de altura.\n"
     ]
    }
   ],
   "source": [
    "nome: str = str(input(\"Informe seu nome: \")).strip().title()\n",
    "idade: int = int(input(\"Informe sua idade: \"))\n",
    "altura: float = float(input(\"Informe sua altura: \"))\n",
    "\n",
    "print(f\"O usuário {nome} tem {idade} anos e {altura} m de altura.\")"
   ]
  },
  {
   "cell_type": "markdown",
   "id": "259ab9f7",
   "metadata": {},
   "source": [
    "## Operadores Aritméticos: \n",
    "\n",
    "### Peça ao usuário dois números e exiba a soma, subtração, multiplicação, divisão e resto da divisão."
   ]
  },
  {
   "cell_type": "code",
   "execution_count": 6,
   "id": "128b52c4",
   "metadata": {},
   "outputs": [
    {
     "name": "stdout",
     "output_type": "stream",
     "text": [
      "Operações:\n",
      "Soma ->             4.0 +  0.0 = 4.0\n",
      "Subtração ->        4.0 -  0.0 = 4.0\n",
      "Multiplicação:      4.0 x  0.0 = 0.0\n",
      "Divisão:            4.0 +  0.0 = Erro, divisao por zero.\n",
      "Divisão Interia:    4.0 // 0.0 = Erro, divisão por zero.\n",
      "Resto da Divisao:   4.0 %  0.0 = Erro, divisão por zero.\n",
      "\n"
     ]
    }
   ],
   "source": [
    "num1: float = float(input(\"Informe o primeiro número: \"))\n",
    "num2: float = float(input(\"Informe o segundo número: \"))\n",
    "\n",
    "soma: float = num1 + num2\n",
    "subtracao: float = num1 - num2\n",
    "multiplicacao: float = num1 * num2\n",
    "divisao: str = str(num1 / num2) if num2 != 0 else \"Erro, divisao por zero.\"\n",
    "divisaoInteira: str = str(num1 // num2) if num2 != 0 else \"Erro, divisão por zero.\"\n",
    "restoDivisao: float = num1 % num2 if num2 != 0 else \"Erro, divisão por zero.\"\n",
    "\n",
    "print(f\"\"\"Operações:\n",
    "Soma ->             {num1} +  {num2} = {soma}\n",
    "Subtração ->        {num1} -  {num2} = {subtracao}\n",
    "Multiplicação:      {num1} x  {num2} = {multiplicacao}\n",
    "Divisão:            {num1} +  {num2} = {divisao}\n",
    "Divisão Interia:    {num1} // {num2} = {divisaoInteira}\n",
    "Resto da Divisao:   {num1} %  {num2} = {restoDivisao}\n",
    "\"\"\")"
   ]
  },
  {
   "cell_type": "markdown",
   "id": "c276828c",
   "metadata": {},
   "source": [
    "### 1. Entrada e Saída: Solicite ao usuário que digite uma frase e imprima essa frase."
   ]
  },
  {
   "cell_type": "code",
   "execution_count": null,
   "id": "a970398b",
   "metadata": {},
   "outputs": [
    {
     "name": "stdout",
     "output_type": "stream",
     "text": [
      "openjdk 21.0.7 2025-04-15 LTS\n",
      "OpenJDK Runtime Environment Microsoft-11369942 (build 21.0.7+6-LTS)\n",
      "OpenJDK 64-Bit Server VM Microsoft-11369942 (build 21.0.7+6-LTS, mixed mode, sharing)\n"
     ]
    }
   ],
   "source": [
    "frase: str = str(input(\"Digite uma frase: \")).strip()\n",
    "print(f\"Frase: {frase}\")"
   ]
  },
  {
   "cell_type": "markdown",
   "id": "c08840c6",
   "metadata": {},
   "source": [
    "## Condicionais (if/else)\n",
    "\n",
    "### Verifique se um número digitado pelo usuário é par ou ímpar.\n"
   ]
  },
  {
   "cell_type": "code",
   "execution_count": null,
   "id": "a5d09037",
   "metadata": {},
   "outputs": [
    {
     "name": "stdout",
     "output_type": "stream",
     "text": [
      "Número 13 é impar.\n"
     ]
    }
   ],
   "source": [
    "numero: int = int(input(\"Informe um número: \").strip())\n",
    "print(f\"Número {numero} é Par\" if numero % 2 == 0 else f\"Número {numero} é impar.\")\n"
   ]
  },
  {
   "cell_type": "markdown",
   "id": "979bc4a0",
   "metadata": {},
   "source": [
    "## Condicionais Aninhadas\n",
    "\n",
    "### Peça três notas a um aluno e calcule a média. Se a média for maior ou igual a 7, imprima \"Aprovado\". Se for entre 5 e 6.9, imprima \"Recuperação\". Caso contrário, imprima \"Reprovado\"."
   ]
  },
  {
   "cell_type": "code",
   "execution_count": 11,
   "id": "fba87bc3",
   "metadata": {},
   "outputs": [
    {
     "name": "stdout",
     "output_type": "stream",
     "text": [
      "Media do Aluno: 4.0\n",
      "Candidado em recuperação\n"
     ]
    }
   ],
   "source": [
    "nota1: float = float(input(\"Informe a primeira nota1: \"))\n",
    "nota2: float = float(input(\"Informe a primeira nota2: \"))\n",
    "nota3: float = float(input(\"Informe a primeira nota3: \"))\n",
    "\n",
    "media: float = round((nota1 + nota2 + nota3) / 3, 2)\n",
    "print(f\"Media do Aluno: {media}\")\n",
    "print(\"Candidato aprovado\" if media >= 7 else \"Candidato Reprovado\" if media < 3 else \"Candidado em recuperação\")"
   ]
  }
 ],
 "metadata": {
  "kernelspec": {
   "display_name": "Python 3",
   "language": "python",
   "name": "python3"
  },
  "language_info": {
   "codemirror_mode": {
    "name": "ipython",
    "version": 3
   },
   "file_extension": ".py",
   "mimetype": "text/x-python",
   "name": "python",
   "nbconvert_exporter": "python",
   "pygments_lexer": "ipython3",
   "version": "3.12.1"
  }
 },
 "nbformat": 4,
 "nbformat_minor": 5
}
