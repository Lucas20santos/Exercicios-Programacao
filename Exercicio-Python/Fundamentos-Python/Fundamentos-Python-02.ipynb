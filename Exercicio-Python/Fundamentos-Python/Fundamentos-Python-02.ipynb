{
 "cells": [
  {
   "cell_type": "markdown",
   "id": "5838a0ea",
   "metadata": {},
   "source": [
    "## Leitura de Arquivo: Crie um arquivo de texto simples e, em seguida, leia seu conteúdo e imprima-o."
   ]
  },
  {
   "cell_type": "code",
   "execution_count": 6,
   "id": "2cdbb27f",
   "metadata": {},
   "outputs": [
    {
     "name": "stdout",
     "output_type": "stream",
     "text": [
      "[['Esse', 'arquivo', 'é', 'um', 'arquivo', 'teste', 'para', 'testar', 'uma', 'leitura', 'de', 'arquivo', 'com', 'python.', ''], ['Cabeça'], ['caminhão'], ['almofada'], ['caneta'], ['']]\n"
     ]
    }
   ],
   "source": [
    "try:\n",
    "    with open(\"meu_arquivo.txt\", 'r', encoding='utf-8') as arq:\n",
    "        conteudo = arq.read()\n",
    "        lista: list = []\n",
    "        for x in conteudo.split(\"\\n\"):\n",
    "            lista.append(x.split(\" \"))\n",
    "        print(lista)\n",
    "except FileNotFoundError:\n",
    "    print(\"O arquivo não foi econtrado\")\n",
    "except Exception as err:\n",
    "    print(f\"Ocorreu um erro: {err}\")\n"
   ]
  },
  {
   "cell_type": "markdown",
   "id": "a1c38912",
   "metadata": {},
   "source": [
    "## Escrita em Arquivo: \n",
    "\n",
    "### Peça ao usuário uma frase e salve-a em um novo arquivo de texto."
   ]
  },
  {
   "cell_type": "code",
   "execution_count": 7,
   "id": "0b6c591a",
   "metadata": {},
   "outputs": [],
   "source": [
    "try:\n",
    "    texto: str = input(\"Digite um texto para ser escrito em um arquivo de texto. \")\n",
    "    with open('meu_arquivo02.txt', 'w', encoding='utf-8') as arq:\n",
    "        arq.write(texto)\n",
    "except Exception as err:\n",
    "    print(f\"Ocorreu um erro: {err}\")\n"
   ]
  },
  {
   "cell_type": "markdown",
   "id": "34d5e951",
   "metadata": {},
   "source": [
    "## Tratamento de Exceções (try/except): \n",
    "\n",
    "### Peça ao usuário para digitar um número inteiro. Use try-except para lidar com erros caso o usuário digite um valor não numérico."
   ]
  },
  {
   "cell_type": "code",
   "execution_count": 11,
   "id": "739cd3f8",
   "metadata": {},
   "outputs": [
    {
     "name": "stdout",
     "output_type": "stream",
     "text": [
      "O tipo de valor digitado não é um tipo inteiro, por favor digitar um valor correto.\n",
      "O programa terminou\n",
      "Final do bloco de tratamento.\n"
     ]
    }
   ],
   "source": [
    "try:\n",
    "    valorNumerico:int = int(input(\"Digite um valor numeerico: \"))\n",
    "except ValueError as err:\n",
    "    print(f\"O tipo de valor digitado não é um tipo inteiro, por favor digitar um valor correto.\")\n",
    "else:\n",
    "    print(\"O programa não gerou nenhuma exceção.\")\n",
    "finally:\n",
    "    print(\"O programa terminou\")\n",
    "\n",
    "print(\"Final do bloco de tratamento.\")"
   ]
  },
  {
   "cell_type": "markdown",
   "id": "19285041",
   "metadata": {},
   "source": [
    "## Divisão por Zero: \n",
    "\n",
    "### Crie um programa que peça dois números e tente dividi-los, tratando a exceção de divisão por zero."
   ]
  },
  {
   "cell_type": "code",
   "execution_count": null,
   "id": "56a8ab92",
   "metadata": {},
   "outputs": [],
   "source": []
  },
  {
   "cell_type": "markdown",
   "id": "4514e3f5",
   "metadata": {},
   "source": [
    "## Manipulação de Arquivos JSON: \n",
    "\n",
    "### Crie um dicionário e salve-o em um arquivo JSON. Em seguida, leia o arquivo JSON e imprima o conteúdo."
   ]
  },
  {
   "cell_type": "code",
   "execution_count": null,
   "id": "1a27673b",
   "metadata": {},
   "outputs": [],
   "source": []
  }
 ],
 "metadata": {
  "kernelspec": {
   "display_name": "Python 3",
   "language": "python",
   "name": "python3"
  },
  "language_info": {
   "codemirror_mode": {
    "name": "ipython",
    "version": 3
   },
   "file_extension": ".py",
   "mimetype": "text/x-python",
   "name": "python",
   "nbconvert_exporter": "python",
   "pygments_lexer": "ipython3",
   "version": "3.12.1"
  }
 },
 "nbformat": 4,
 "nbformat_minor": 5
}
