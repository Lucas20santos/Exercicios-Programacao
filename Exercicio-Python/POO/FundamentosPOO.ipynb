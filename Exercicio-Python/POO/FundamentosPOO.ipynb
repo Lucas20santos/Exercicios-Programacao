{
 "cells": [
  {
   "cell_type": "markdown",
   "id": "d9a083d6",
   "metadata": {},
   "source": [
    "## Parte 1: Fundamentos de POO (30 Exercícios)\n",
    "\n",
    "### Nível Básico: Classes, Objetos, Atributos e Métodos\n",
    "\n",
    "1. **Classe `Pessoa`:**\n",
    "    * Crie uma classe `Pessoa` com atributos `nome` e `idade`.\n",
    "    * Crie um método `apresentar()` que imprima \"Olá, meu nome é [nome] e tenho [idade] anos.\"\n",
    "    * Crie duas instâncias de `Pessoa` e chame o método `apresentar()`."
   ]
  },
  {
   "cell_type": "code",
   "execution_count": 3,
   "id": "5bed0aa6",
   "metadata": {},
   "outputs": [
    {
     "name": "stdout",
     "output_type": "stream",
     "text": [
      "Olá, meu nome é Lucas e tenho 33 anos.\n",
      "Olá, meu nome é Marcos e tenho 08 anos.\n"
     ]
    }
   ],
   "source": [
    "class Pessoa():\n",
    "    def __init__(self, nome:str, idade:int):\n",
    "        self.nome = nome.title()\n",
    "        self.idade = idade\n",
    "    \n",
    "    def apresentar(self):\n",
    "        print(f\"Olá, meu nome é {self.nome} e tenho {self.idade if self.idade > 9 else f\"0{self.idade}\"} anos.\")\n",
    "\n",
    "\n",
    "p1 = Pessoa(\"Lucas\", 33)\n",
    "p2 = Pessoa(\"Marcos\", 8)\n",
    "\n",
    "\n",
    "p1.apresentar()\n",
    "p2.apresentar()\n"
   ]
  },
  {
   "cell_type": "markdown",
   "id": "581c6b2a",
   "metadata": {},
   "source": [
    "## Melhorias no código acima pelo gemini"
   ]
  },
  {
   "cell_type": "code",
   "execution_count": null,
   "id": "9aad5a46",
   "metadata": {},
   "outputs": [],
   "source": [
    "class Pessoa():\n",
    "    def __init__(self, nome:str, idade: int):\n",
    "        if not nome:\n",
    "            raise ValueError(\"Nome não pode ser vázio\")\n",
    "        if not isinstance(idade, int) or idade < 0:\n",
    "            raise ValueError(\"Idade deve ser um número inteiro e não negativo.\")\n",
    "        \n",
    "        self.nome = nome\n",
    "        self.idade = idade\n",
    "\n",
    "    def apresentar(self):\n",
    "        print(f\"Olá, meu nome é {self.nome} e tenho {self.idade if self.idade > 9 else f\"0{self.idade}\"} anos.\")\n",
    "\n",
    "\n",
    "p1 = Pessoa(\"Lucas\", 33)\n",
    "p2 = Pessoa(\"Marcos\", 8)\n",
    "\n",
    "\n",
    "p1.apresentar()\n",
    "p2.apresentar()\n"
   ]
  },
  {
   "cell_type": "markdown",
   "id": "44de9fd3",
   "metadata": {},
   "source": [
    "2. **Classe `Carro`:**\n",
    "    * Crie uma classe `Carro` com atributos `marca`, `modelo` e `ano`.\n",
    "    * Adicione um método `ligar()` que imprima \"O [marca] [modelo] está ligado.\"\n",
    "    * Instancie um carro e chame `ligar()`."
   ]
  },
  {
   "cell_type": "code",
   "execution_count": 4,
   "id": "f09bb84d",
   "metadata": {},
   "outputs": [
    {
     "name": "stdout",
     "output_type": "stream",
     "text": [
      "O Toyota Corolla está ligado.\n"
     ]
    }
   ],
   "source": [
    "class Carro():\n",
    "    def __init__(self, marca:str, modelo:str, ano:int):\n",
    "        self.marca = marca\n",
    "        self.modelo = modelo\n",
    "        self.ano = ano\n",
    "    \n",
    "    def ligar(self):\n",
    "        print(f\"O {self.marca} {self.modelo} está ligado.\")\n",
    "\n",
    "c1 = Carro(\"Toyota\", \"Corolla\", 2023)\n",
    "c1.ligar()"
   ]
  },
  {
   "cell_type": "markdown",
   "id": "41d35c31",
   "metadata": {},
   "source": [
    "3. **Atributos de Classe:**\n",
    "    * Na classe `Carro`, adicione um atributo de classe `rodas` com valor `4`.\n",
    "    * Acesse e imprima o atributo `rodas` usando a classe e uma instância."
   ]
  },
  {
   "cell_type": "code",
   "execution_count": 5,
   "id": "22b5ca83",
   "metadata": {},
   "outputs": [
    {
     "name": "stdout",
     "output_type": "stream",
     "text": [
      "4\n",
      "4\n"
     ]
    }
   ],
   "source": [
    "class Carro():\n",
    "\n",
    "    rodas:int = 4\n",
    "\n",
    "    def __init__(self, marca:str, modelo:str, ano:int):\n",
    "        self.marca = marca\n",
    "        self.modelo = modelo\n",
    "        self.ano = ano\n",
    "    \n",
    "    def ligar(self):\n",
    "        print(f\"O {self.marca} {self.modelo} está ligado.\")\n",
    "\n",
    "# Criando uma instância\n",
    "c1 = Carro(\"Toyota\", \"Corolla\", 2023)\n",
    "\n",
    "# Imprimindo a quantidade de rodas com a classe\n",
    "print(Carro.rodas)\n",
    "\n",
    "# Imprimindo a quantidade de rodas com a instância da classe Carro\n",
    "print(c1.rodas)"
   ]
  },
  {
   "cell_type": "markdown",
   "id": "e9a5ae5d",
   "metadata": {},
   "source": [
    "-----\n",
    "\n",
    "Em Programação Orientada a Objetos (POO) em Python, os atributos são dados associados a classes e objetos. Eles servem para armazenar informações que descrevem o estado de uma classe ou de suas instâncias. Basicamente, existem dois tipos principais de atributos:\n",
    "\n",
    "### 1\\. Atributos de Instância\n",
    "\n",
    "  * **O que são:** São atributos que pertencem a uma **instância específica (objeto)** de uma classe. Cada objeto terá sua própria cópia desses atributos e poderá ter valores diferentes para eles. Eles definem o estado único de cada objeto.\n",
    "  * **Como são definidos:** Geralmente são definidos dentro do método construtor `__init__` da classe, usando a palavra-chave `self`.\n",
    "  * **Como são acessados:** São acessados através da instância do objeto (`nome_do_objeto.nome_do_atributo`).\n",
    "\n",
    "#### Exemplo:\n",
    "\n",
    "```python\n",
    "class Pessoa:\n",
    "    def __init__(self, nome, idade):\n",
    "        # 'nome' e 'idade' são atributos de instância\n",
    "        self.nome = nome\n",
    "        self.idade = idade\n",
    "\n",
    "p1 = Pessoa(\"Alice\", 30)\n",
    "p2 = Pessoa(\"Bob\", 25)\n",
    "\n",
    "print(f\"{p1.nome} tem {p1.idade} anos.\") # Alice tem 30 anos.\n",
    "print(f\"{p2.nome} tem {p2.idade} anos.\") # Bob tem 25 anos.\n",
    "\n",
    "# Cada instância tem seus próprios valores para 'nome' e 'idade'.\n",
    "```\n",
    "\n",
    "-----\n",
    "\n",
    "### 2\\. Atributos de Classe\n",
    "\n",
    "  * **O que são:** São atributos que pertencem à **própria classe** e são **compartilhados por todas as instâncias (objetos)** dessa classe. Todas as instâncias acessam o mesmo valor para esse atributo. Se o valor de um atributo de classe for alterado, essa mudança será refletida para todas as instâncias (a menos que uma instância crie seu próprio atributo de instância com o mesmo nome, o que \"sombra\" o atributo de classe para aquela instância).\n",
    "  * **Como são definidos:** São definidos diretamente dentro do corpo da classe, fora de qualquer método.\n",
    "  * **Como são acessados:** Podem ser acessados tanto pela classe (`NomeDaClasse.nome_do_atributo`) quanto pela instância do objeto (`nome_do_objeto.nome_do_atributo`). No entanto, a forma recomendada de acessar e modificar atributos de classe é sempre através da própria classe para evitar confusão e garantir que você está alterando o valor compartilhado.\n",
    "\n",
    "#### Exemplo:\n",
    "\n",
    "```python\n",
    "class Carro:\n",
    "    # 'rodas' é um atributo de classe, compartilhado por todos os carros\n",
    "    rodas = 4\n",
    "    total_carros_criados = 0 # Outro exemplo de atributo de classe\n",
    "\n",
    "    def __init__(self, marca, modelo):\n",
    "        self.marca = marca\n",
    "        self.modelo = modelo\n",
    "        Carro.total_carros_criados += 1 # Incrementa o contador de carros criados\n",
    "\n",
    "c1 = Carro(\"Toyota\", \"Corolla\")\n",
    "c2 = Carro(\"Honda\", \"Civic\")\n",
    "\n",
    "print(f\"Número de rodas (via classe): {Carro.rodas}\") # Número de rodas (via classe): 4\n",
    "print(f\"Número de rodas (via instância c1): {c1.rodas}\") # Número de rodas (via instância c1): 4\n",
    "\n",
    "print(f\"Total de carros criados: {Carro.total_carros_criados}\") # Total de carros criados: 2\n",
    "\n",
    "# Alterando um atributo de classe via classe:\n",
    "Carro.rodas = 5 # Ops, um carro de 5 rodas!\n",
    "print(f\"Número de rodas (via classe após alteração): {Carro.rodas}\") # Número de rodas (via classe após alteração): 5\n",
    "print(f\"Número de rodas (via instância c1 após alteração): {c1.rodas}\") # Número de rodas (via instância c1 após alteração): 5\n",
    "```\n",
    "\n",
    "-----\n",
    "\n",
    "### Resumo das Diferenças\n",
    "\n",
    "| Característica        | Atributo de Instância                                   | Atributo de Classe                                          |\n",
    "| :-------------------- | :------------------------------------------------------ | :---------------------------------------------------------- |\n",
    "| **Pertencimento** | A uma instância específica do objeto.                   | À própria classe e compartilhado por todas as instâncias.   |\n",
    "| **Definição** | Dentro de `__init__` usando `self.`.                   | Diretamente no corpo da classe.                             |\n",
    "| **Acesso** | `objeto.atributo`.                                      | `Classe.atributo` (recomendado) ou `objeto.atributo`.      |\n",
    "| **Valores** | Podem ter valores diferentes para cada objeto.          | O mesmo valor para todas as instâncias (a menos que sombreado). |\n",
    "| **Uso Comum** | Descrever o estado único de um objeto (nome, idade).    | Constantes, contadores de instâncias, configurações padrão. |\n",
    "\n",
    "Compreender a distinção entre esses dois tipos de atributos é fundamental para modelar classes de forma eficaz em Python e para evitar comportamentos inesperados em seus programas.\n",
    "\n",
    "Você gostaria de explorar mais a fundo como Python lida com a mutabilidade de atributos de classe e como isso pode afetar suas instâncias?"
   ]
  },
  {
   "cell_type": "markdown",
   "id": "c200db81",
   "metadata": {},
   "source": [
    "4. **Métodos com Parâmetros:**\n",
    "    * Na classe `Carro`, crie um método `acelerar(velocidade)` que imprime \"O carro acelerou para [velocidade] km/h.\"\n",
    "    * Chame o método com um valor."
   ]
  },
  {
   "cell_type": "code",
   "execution_count": null,
   "id": "bd11ab78",
   "metadata": {},
   "outputs": [
    {
     "name": "stdout",
     "output_type": "stream",
     "text": [
      "O Toyota Corolla está ligado.\n",
      "O carro acelerou para 50 Km/h.\n"
     ]
    }
   ],
   "source": [
    "\"\"\"\n",
    "4. **Métodos com Parâmetros:**\n",
    "    * Na classe `Carro`, crie um método `acelerar(velocidade)` que imprime \"O carro acelerou para [velocidade] km/h.\"\n",
    "    * Chame o método com um valor.\n",
    "\"\"\"\n",
    "\n",
    "class Carro():\n",
    "\n",
    "    rodas:int = 4\n",
    "\n",
    "    def __init__(self, marca:str, modelo:str, ano:int):\n",
    "        self.marca = marca\n",
    "        self.modelo = modelo\n",
    "        self.ano = ano\n",
    "    \n",
    "    def ligar(self):\n",
    "        print(f\"O {self.marca} {self.modelo} está ligado.\")\n",
    "    \n",
    "    def acelerar(self, velocidade):\n",
    "        print(f\"O carro acelerou para {velocidade} Km/h.\")\n",
    "\n",
    "# Criando uma instância\n",
    "c1 = Carro(\"Toyota\", \"Corolla\", 2023)\n",
    "c1.ligar()\n",
    "c1.acelerar(50)\n"
   ]
  },
  {
   "cell_type": "markdown",
   "id": "6a366cbe",
   "metadata": {},
   "source": [
    "5. **Método de Retorno:**\n",
    "    * Crie um método `calcular_idade_futura(anos)` na classe `Pessoa` que retorne a idade da pessoa após `anos` passados.\n",
    "    * Imprima o resultado."
   ]
  },
  {
   "cell_type": "code",
   "execution_count": 10,
   "id": "f8dbf225",
   "metadata": {},
   "outputs": [
    {
     "name": "stdout",
     "output_type": "stream",
     "text": [
      "Olá, meu nome é Lucas e tenho 33 anos.\n",
      "35\n"
     ]
    }
   ],
   "source": [
    "\"\"\"\n",
    "5. **Método de Retorno:**\n",
    "    * Crie um método `calcular_idade_futura(anos)` na classe `Pessoa` que retorne a idade da pessoa após `anos` passados.\n",
    "    * Imprima o resultado.\n",
    "\"\"\"\n",
    "class Pessoa():\n",
    "    def __init__(self, nome:str, idade: int):\n",
    "        if not nome:\n",
    "            raise ValueError(\"Nome não pode ser vázio\")\n",
    "        if not isinstance(idade, int) or idade < 0:\n",
    "            raise ValueError(\"Idade deve ser um número inteiro e não negativo.\")\n",
    "        \n",
    "        self.nome = nome\n",
    "        self.idade = idade\n",
    "\n",
    "    def apresentar(self):\n",
    "        print(f\"Olá, meu nome é {self.nome} e tenho {self.idade if self.idade > 9 else f\"0{self.idade}\"} anos.\")\n",
    "\n",
    "\n",
    "    def calcular_idade_futura(self, anos:int):\n",
    "        if not isinstance(anos, int) or anos < 0:\n",
    "            raise ValueError(\"Valor passado tem que ser um valor inteiro e não negativos.\")\n",
    "        return self.idade + anos\n",
    "\n",
    "\n",
    "p1 = Pessoa(\"Lucas\", 33)\n",
    "\n",
    "p1.apresentar()\n",
    "print(p1.calcular_idade_futura(2))"
   ]
  },
  {
   "cell_type": "markdown",
   "id": "897b7281",
   "metadata": {},
   "source": [
    "6. **Construtor com Valores Padrão:**\n",
    "    * Altere o construtor de `Pessoa` para que `idade` seja opcional e tenha um valor padrão de `0`."
   ]
  },
  {
   "cell_type": "code",
   "execution_count": null,
   "id": "657fd911",
   "metadata": {},
   "outputs": [],
   "source": [
    "\"\"\"\n",
    "6. **Construtor com Valores Padrão:**\n",
    "    * Altere o construtor de `Pessoa` para que `idade` seja \n",
    "    opcional e tenha um valor padrão de `0`.\n",
    "\"\"\"\n",
    "\n",
    "class Pessoa():\n",
    "    def __init__(self, nome:str, idade: int = 0):\n",
    "        if not nome:\n",
    "            raise ValueError(\"Nome não pode ser vázio\")\n",
    "        if not isinstance(idade, int) or idade < 0:\n",
    "            raise ValueError(\"Idade deve ser um número inteiro e não negativo.\")\n",
    "        \n",
    "        self.nome = nome\n",
    "        self.idade = idade\n",
    "\n",
    "    def apresentar(self):\n",
    "        print(f\"Olá, meu nome é {self.nome} e tenho {self.idade if self.idade > 9 else f\"0{self.idade}\"} anos.\")\n",
    "\n",
    "\n",
    "    def calcular_idade_futura(self, anos:int):\n",
    "        if not isinstance(anos, int) or anos < 0:\n",
    "            raise ValueError(\"Valor passado tem que ser um valor inteiro e não negativos.\")\n",
    "        return self.idade + anos\n",
    "\n",
    "\n",
    "p1 = Pessoa(\"Lucas\", 33)\n",
    "\n",
    "p1.apresentar()\n",
    "print(p1.calcular_idade_futura(2))\n"
   ]
  },
  {
   "cell_type": "markdown",
   "id": "5e161b05",
   "metadata": {},
   "source": [
    "7. **Classe `Retangulo`:**\n",
    "    * Crie uma classe `Retangulo` com atributos `largura` e `altura`.\n",
    "    * Adicione métodos para `calcular_area()` e `calcular_perimetro()`."
   ]
  },
  {
   "cell_type": "code",
   "execution_count": null,
   "id": "4cc36189",
   "metadata": {},
   "outputs": [
    {
     "name": "stdout",
     "output_type": "stream",
     "text": [
      "A área do retangulo (5, 10) é 50.\n",
      "O perimetro do retangulo (5, 10) é 50.\n"
     ]
    }
   ],
   "source": [
    "\"\"\"\n",
    "7. **Classe `Retangulo`:**\n",
    "    * Crie uma classe `Retangulo` com atributos `largura` e `altura`.\n",
    "    * Adicione métodos para `calcular_area()` e `calcular_perimetro()`.\n",
    "\"\"\"\n",
    "\n",
    "class Retangulo():\n",
    "    def __init__(self, largura, altura):\n",
    "        self.largura = largura\n",
    "        self.altura = altura\n",
    "    \n",
    "    def calcular_area(self):\n",
    "        return self.largura * self.altura\n",
    "\n",
    "    def calcular_perimetro(self):\n",
    "        return 2 * (self.largura + self.altura)\n",
    "\n",
    "r1 = Retangulo(largura=5, altura=10)\n",
    "print(f\"A área do retangulo {r1.largura, r1.altura} é {r1.calcular_area()}.\")\n",
    "print(f\"O perimetro do retangulo {r1.largura, r1.altura} é {r1.calcular_area()}.\")\n"
   ]
  },
  {
   "cell_type": "markdown",
   "id": "0b79c786",
   "metadata": {},
   "source": [
    "8. **Classe `ContaBancaria`:**\n",
    "    * Crie uma classe `ContaBancaria` com atributos `saldo` (inicial `0`) e `titular`.\n",
    "    * Adicione métodos `depositar(valor)` e `sacar(valor)`. Valide o saque para não permitir saldo negativo."
   ]
  },
  {
   "cell_type": "markdown",
   "id": "ce1c2598",
   "metadata": {},
   "source": [
    "## Erro\n",
    "\n",
    "```python\n",
    "class ContaBancaria():\n",
    "    def __init__(self, saldo:float = 0, titular:str):\n",
    "        pass\n",
    "```\n",
    "Gera um erro porque em Python, **parâmetros com valores padrão(opcionais) devem vir depois dos parâmetros obrigatórios**"
   ]
  },
  {
   "cell_type": "code",
   "execution_count": 2,
   "id": "5a248480",
   "metadata": {},
   "outputs": [
    {
     "name": "stdout",
     "output_type": "stream",
     "text": [
      "Valor do saldo atual: R$ 200.00.\n",
      "Saque realizado no valor de R$ 150.00 com sucesso.\n",
      "Valor do saldo atual: R$ 50.00.\n"
     ]
    }
   ],
   "source": [
    "\"\"\"\n",
    "8. **Classe `ContaBancaria`:**\n",
    "    * Crie uma classe `ContaBancaria` com atributos `saldo` (inicial `0`) e `titular`.\n",
    "    * Adicione métodos `depositar(valor)` e `sacar(valor)`. Valide o saque para não permitir saldo negativo.\n",
    "\"\"\"\n",
    "\n",
    "class ContaBancaria():\n",
    "    def __init__(self, titular:str, saldo:float = 0):\n",
    "        if not isinstance(saldo, (int, float)) or saldo < 0:\n",
    "            raise ValueError('Informe um valor adequado.')\n",
    "        if not titular or not isinstance(titular, str):\n",
    "            raise ValueError('Informe o nome do titular.')\n",
    "\n",
    "        self.saldo = saldo\n",
    "        self.titular = titular\n",
    "    \n",
    "    def sacar(self, valor):\n",
    "        if not isinstance(valor, (int, float)) or valor < 0:\n",
    "            raise ValueError('Valor do saque menor ou igual a zero, informe um valor válido.')\n",
    "        else:\n",
    "            if valor <= self.saldo:\n",
    "                self.saldo -= valor\n",
    "                print(f\"Saque realizado no valor de R$ {valor:.2f} com sucesso.\")\n",
    "            else:\n",
    "                print(\"Saldo insuficiente.\")\n",
    "    \n",
    "    def depositar(self, valor):\n",
    "        if not isinstance(valor, (int, float)) or valor < 0:\n",
    "            raise ValueError('Valor do deposito invalido, informe um valor valido.')\n",
    "        else:\n",
    "            self.saldo += valor\n",
    "\n",
    "    def consultar_saldo(self):\n",
    "        print(f\"Valor do saldo atual: R$ {self.saldo:.2f}.\")\n",
    "\n",
    "cb1 = ContaBancaria(saldo=200, titular='Lucas de Souza Santos')\n",
    "cb1.consultar_saldo()\n",
    "cb1.sacar(150)\n",
    "cb1.consultar_saldo()\n"
   ]
  },
  {
   "cell_type": "markdown",
   "id": "61ad2c8d",
   "metadata": {},
   "source": [
    "9. **Classe `Cachorro`:**\n",
    "    * Crie uma classe `Cachorro` com `nome` e `raca`.\n",
    "    * Adicione um método `latir()` que imprime \"Au au!\".\n",
    "    * Adicione um método `comer(comida)` que imprime \"O [nome] está comendo [comida].\""
   ]
  },
  {
   "cell_type": "code",
   "execution_count": null,
   "id": "fe1c27d7",
   "metadata": {},
   "outputs": [
    {
     "name": "stdout",
     "output_type": "stream",
     "text": [
      "Au Au\n",
      "O Bobi está comendo Ração.\n",
      "Au Au\n",
      "O Lulu está comendo Ração.\n",
      "Au Au\n",
      "O Nevasca está comendo Ração.\n",
      "Au Au\n",
      "O Marilha está comendo Ração.\n"
     ]
    }
   ],
   "source": [
    "\"\"\"\n",
    "9. **Classe `Cachorro`:**\n",
    "    * Crie uma classe `Cachorro` com `nome` e `raca`.\n",
    "    * Adicione um método `latir()` que imprime \"Au au!\".\n",
    "    * Adicione um método `comer(comida)` que imprime \"O [nome] está comendo [comida].\"\n",
    "10. **Multiplas Instâncias:**\n",
    "    * Crie 3 instâncias da classe `Cachorro` com diferentes nomes e raças e chame `latir()` para cada uma.\n",
    "\"\"\"\n",
    "class Cachorro():\n",
    "    def __init__(self, nome:str, raca:str):\n",
    "        if not isinstance(nome, str) or not nome.strip():\n",
    "            raise ValueError(\"O campo nome não pode ser vazio ou por favor digite um texto com seu nome.\")\n",
    "        if not isinstance(raca, str) or not raca.strip():\n",
    "            raise ValueError(\"O campo nome não pode ser vazio ou por favor digite um texto com seu nome.\")\n",
    "\n",
    "        self.nome = nome\n",
    "        self.raca = raca\n",
    "    \n",
    "    def latir(self):\n",
    "        print(\"Au Au\")\n",
    "\n",
    "    def comer(self, comida):\n",
    "        print(f\"O {self.nome} está comendo {comida}.\")\n",
    "    \n",
    "\n",
    "ListaCachorro = [\n",
    "    Cachorro('Bobi', 'Pastor-Alemão'),\n",
    "    Cachorro('Lulu', 'Poodle'),\n",
    "    Cachorro('Nevasca', 'Husky Siberiano'),\n",
    "    Cachorro('Marilha', 'Chihuahua')\n",
    "    ]\n",
    "\n",
    "comida:str = 'Ração'\n",
    "\n",
    "for obj in ListaCachorro:\n",
    "    obj.latir()\n",
    "    obj.comer(comida)\n"
   ]
  },
  {
   "cell_type": "markdown",
   "id": "efa09905",
   "metadata": {},
   "source": []
  }
 ],
 "metadata": {
  "kernelspec": {
   "display_name": "Python 3",
   "language": "python",
   "name": "python3"
  },
  "language_info": {
   "codemirror_mode": {
    "name": "ipython",
    "version": 3
   },
   "file_extension": ".py",
   "mimetype": "text/x-python",
   "name": "python",
   "nbconvert_exporter": "python",
   "pygments_lexer": "ipython3",
   "version": "3.12.1"
  }
 },
 "nbformat": 4,
 "nbformat_minor": 5
}
